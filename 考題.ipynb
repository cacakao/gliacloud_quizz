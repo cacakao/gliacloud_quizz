{
 "cells": [
  {
   "cell_type": "markdown",
   "metadata": {},
   "source": [
    "Quiz 1-1: Back Propagation (20%)"
   ]
  },
  {
   "cell_type": "markdown",
   "metadata": {},
   "source": [
    "Quiz 1-2: Common Senses (30%)\n",
    "Note: you can answer in Chinese or English.\n",
    "Note: your answers can be as simplest as possible\n",
    "\n",
    "When will we use F1-score instead of precision(accuracy)?\n",
    "\n",
    "對於混肴矩陣來說\n",
    "precision是（TP/(TP+FP)) 用來衡量當預測為“Yes“時的正確率有多少。\n",
    "Recall是（TP/(TP+FN)) 用來衡量是實際上為“Yes”時的正確率有多少。\n",
    "F1-score（2/((1/precision)+(1/recall)是一項綜合指標，因為當模型預測錯誤時\n",
    "False positve 跟False nagative 都會產生相應的成本，因此如果單單看precision or recall會造成成本上的高估\n",
    "\n",
    "\n",
    "\n"
   ]
  },
  {
   "cell_type": "markdown",
   "metadata": {},
   "source": [
    "What is the bias and variance of a machine learning algorithm?\n",
    "Bias 是預測上的誤差，Variance 是預測的集程度。\n",
    "當high bias, low vairance 會造成模型的underfitting\n",
    "當low bias, low vairance 會造成模型的overfitting\n"
   ]
  },
  {
   "cell_type": "markdown",
   "metadata": {},
   "source": [
    "When training a single tree in random forest, we don’t prune the tree, why?\n",
    "\n",
    "因為Random Forest已經bagging data去建立不同的樹，可以有效的預防overfitting，u因此我們不剪樹葉。\n"
   ]
  },
  {
   "cell_type": "markdown",
   "metadata": {},
   "source": [
    "What is one-hot encoding?\n",
    "\n",
    "建立Dummy variables, 因為categorical variable 無法被電腦解讀\n",
    "因此我們需要把它變成0跟1的數字讓機器理解去做運算。"
   ]
  },
  {
   "cell_type": "markdown",
   "metadata": {},
   "source": [
    "Quiz 2-1: word counts (10%)\n",
    "Download this English article from https://goo.gl/BDB6bE first.\n",
    "We want to know the probabilities of each bigram and trigram.\n",
    "Please write a function ngram_probs to calculate these counts.\n",
    "Note: please convert text to lower cases before calculating.\n",
    "Note: please keep punctuations in the text.\n",
    "Note: in all quizs, you can use any Python packages on PyPI."
   ]
  },
  {
   "cell_type": "code",
   "execution_count": 113,
   "metadata": {
    "collapsed": true
   },
   "outputs": [],
   "source": [
    "text = open(\"/Users/duffybear/Desktop/raw_sentences.txt\", \"r\")\n",
    "lines = text.readlines()"
   ]
  },
  {
   "cell_type": "code",
   "execution_count": 114,
   "metadata": {},
   "outputs": [],
   "source": [
    "def bigram(list):\n",
    "    b_list = []\n",
    "    for i in range(0,len(list)-1):\n",
    "         b_list.append(list[i:i+2])\n",
    "    \n",
    "    return b_list\n",
    "        \n"
   ]
  },
  {
   "cell_type": "code",
   "execution_count": 115,
   "metadata": {
    "collapsed": true
   },
   "outputs": [],
   "source": [
    "def trigram(list):\n",
    "    t_list = []\n",
    "    for i in range(0,len(list)-2):\n",
    "         t_list.append(list[i:i+3])\n",
    "    \n",
    "    return t_list\n",
    "        \n"
   ]
  },
  {
   "cell_type": "code",
   "execution_count": 116,
   "metadata": {
    "collapsed": true
   },
   "outputs": [],
   "source": [
    "def bigram_freq(bigram):\n",
    "    bi_dict=dict()\n",
    "    for (letter_1,letter_2) in bigram:\n",
    "        bi_dict[(letter_1,letter_2)]=bi_dict.get((letter_1,letter_2),0)+1\n",
    "    return bi_dict"
   ]
  },
  {
   "cell_type": "code",
   "execution_count": 117,
   "metadata": {
    "collapsed": true
   },
   "outputs": [],
   "source": [
    "def trigram_freq(trigram):\n",
    "    tri_dict=dict()\n",
    "    for (letter_1,letter_2,letter_3) in trigram:\n",
    "        tri_dict[(letter_1,letter_2,letter_3)]=tri_dict.get((letter_1,letter_2,letter_3),0)+1\n",
    "    return tri_dict"
   ]
  },
  {
   "cell_type": "code",
   "execution_count": 144,
   "metadata": {},
   "outputs": [],
   "source": [
    "def ngram_probs(filename='raw_sentences.txt'):\n",
    "    bi_list = []\n",
    "    tri_list = []\n",
    "    for i in range(0,len(lines)):\n",
    "        lower = lines[i].lower()\n",
    "        split = lower.split()\n",
    "        bi = bigram(split)\n",
    "        tri = trigram(split)\n",
    "\n",
    "        bi_list.append(bi)\n",
    "        tri_list.append(tri)\n",
    "\n",
    "        a = bi_list\n",
    "        a1 = [y for x in a for y in x]\n",
    "\n",
    "        b = tri_list\n",
    "        b2 = [y for x in b for y in x]\n",
    "\n",
    "\n",
    "    bigram_probs =  bigram_freq(a1)\n",
    "    trigram_probs = trigram_freq(b2)\n",
    "\n",
    "    total_bi_freq = sum(bigram_dict.values())\n",
    "    totral_tri_freq = sum(trigram_dict.values())\n",
    "\n",
    "    \n",
    "    for i in bigram_dict:\n",
    "        bigram_dict[i] = float(bigram_dict[i]/total_bi_freq)\n",
    "    \n",
    "    for i in trigram_dict:\n",
    "        trigram_dict[i] = float(trigram_dict[i]/total_tri_freq)\n",
    "        \n",
    "        \n",
    "    return bigram_probs, trigram_probs\n",
    "    \n",
    "\n",
    "\n",
    "\n",
    "    \n",
    "    "
   ]
  },
  {
   "cell_type": "code",
   "execution_count": null,
   "metadata": {
    "collapsed": true
   },
   "outputs": [],
   "source": []
  }
 ],
 "metadata": {
  "kernelspec": {
   "display_name": "Python 2",
   "language": "python",
   "name": "python2"
  },
  "language_info": {
   "codemirror_mode": {
    "name": "ipython",
    "version": 2
   },
   "file_extension": ".py",
   "mimetype": "text/x-python",
   "name": "python",
   "nbconvert_exporter": "python",
   "pygments_lexer": "ipython2",
   "version": "2.7.14"
  }
 },
 "nbformat": 4,
 "nbformat_minor": 2
}
